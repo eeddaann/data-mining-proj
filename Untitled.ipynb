{
 "cells": [
  {
   "cell_type": "code",
   "execution_count": 74,
   "metadata": {
    "collapsed": true
   },
   "outputs": [],
   "source": [
    "import numpy as np\n",
    "import pandas as pd\n",
    "df=pd.read_csv(\"train.csv\")\n"
   ]
  },
  {
   "cell_type": "code",
   "execution_count": 49,
   "metadata": {
    "collapsed": true
   },
   "outputs": [],
   "source": [
    "def find_largest_classes(df): #return the name of the most commen targets\n",
    "    df2=df.groupby(\"target\").size()\n",
    "    num_of_colms=list(df2.sort_values()[-2:].keys())\n",
    "    return num_of_colms\n",
    "\n",
    "#df3[df3.columns[0]]"
   ]
  },
  {
   "cell_type": "code",
   "execution_count": 76,
   "metadata": {
    "collapsed": false,
    "scrolled": false
   },
   "outputs": [],
   "source": [
    "def filter_classes(df): #return the data frame only with the commen classes\n",
    "    num_of_classes=find_largest_classes(df)\n",
    "    print num_of_classes[0]\n",
    "    df2=df[(df.target==num_of_classes[0]) | (df.target==num_of_classes[1])]\n",
    "    return df2\n",
    "\n"
   ]
  },
  {
   "cell_type": "code",
   "execution_count": 75,
   "metadata": {
    "collapsed": false
   },
   "outputs": [
    {
     "name": "stdout",
     "output_type": "stream",
     "text": [
      "Class_6\n",
      "       feat_56  feat_7  feat_69  feat_12  feat_70  feat_51  feat_20  feat_21  \\\n",
      "0            0       0        0        0        0        0        0        0   \n",
      "1            1       0        0        0        0        0        0        0   \n",
      "2            0       0        0        0        1        0        0        6   \n",
      "5            0       0        0        0        0        0        0        0   \n",
      "6            0       0        0        0        0        0        0        0   \n",
      "7            0       0        0        0        0        0        0        1   \n",
      "8            1       0        0        0        7        0        1        1   \n",
      "9            0       0        0        0        0        0        1        0   \n",
      "11           0       0        0        0        0        0        0        0   \n",
      "15           0       0        0        0        0        0        0        0   \n",
      "21           1       0        1        0        0        0        0        0   \n",
      "22           0       0        0        0        4        0        4        0   \n",
      "24           0       2        1        0        1        0        0        1   \n",
      "25           0       0        0        0        0        0        0        0   \n",
      "26           0       0        0        0        1        0        0        0   \n",
      "29           0       0        0        0        1        0        0        0   \n",
      "33           0       0        0        0        0        0        0        0   \n",
      "37           2       0        0        0        0        0        1        4   \n",
      "39           1       0        0        0        0        0        1        0   \n",
      "40           0       0        0        0        1        0        0        0   \n",
      "42           0       2        0        0        3        2        1        1   \n",
      "43           0       0        1        0        1        0        0        0   \n",
      "44           0       0        0        0        0        0        0        0   \n",
      "45           0       0        0        0        1        0        0        0   \n",
      "46           0       0        0        0        1        0        0        0   \n",
      "48           0       0        0        0        1        0        0        0   \n",
      "49           0       0        0        0        0        0        0        0   \n",
      "51           1       0        0        3        3        0        0        0   \n",
      "54           0       0        0        0        0        0        0        0   \n",
      "58           0       0        0        0        0        1        0        0   \n",
      "...        ...     ...      ...      ...      ...      ...      ...      ...   \n",
      "46345        0       0        0        0        1        0        0        0   \n",
      "46350        0       0        0        0        0        0        0        0   \n",
      "46352        0       0        0        0        1        0        0        0   \n",
      "46355        0       0        0        0        0        0        0        0   \n",
      "46360        0       0        0        0        0        0        0        0   \n",
      "46364        0       0        0        0        0        0        0        0   \n",
      "46365        0       0        0        0        0        0        0        0   \n",
      "46370        0       0        0        0        0        0        0        0   \n",
      "46373        0       0        0        0        0        0        0        0   \n",
      "46374        0       0        0        0        0        0        0        0   \n",
      "46375        0       0        0        0        0        0        0        0   \n",
      "46376        0       0        0        0        0        0        0        0   \n",
      "46380        0       0        0        0        5        0        0        2   \n",
      "46381        0       0        0        0        0        0        0        0   \n",
      "46382        0       0        0        0        0        0        0        0   \n",
      "46383        0       0        0        0        0        0        0        0   \n",
      "46384        0       0        0        0        3        0        0        0   \n",
      "46389        0       0        0        0        0        0        0        0   \n",
      "46391        0       0        0        0        0        0        0        1   \n",
      "46392        0       0        0        0        0        0        0        0   \n",
      "46393        0       0        0        0        0        0        0        0   \n",
      "46394        0       0        0        0        0        0        0        0   \n",
      "46397        0       0        0        0        0        0        0        0   \n",
      "46399        0       0        0        0        0        0        0        0   \n",
      "46400        0       0        1        0        1        0        0        0   \n",
      "46401        0       0        0        0        1        0        4        0   \n",
      "46402        0       0        0        0        2        0        0        0   \n",
      "46404        0       0        0        0        0        0        0        0   \n",
      "46405        0       0        0        0        0        0        0        1   \n",
      "46406        0       0        0        0        4        0        0        0   \n",
      "\n",
      "       feat_61  feat_23   target  \n",
      "0            0        0  Class_2  \n",
      "1            0        0  Class_6  \n",
      "2            5        0  Class_6  \n",
      "5            0        0  Class_6  \n",
      "6            0        0  Class_2  \n",
      "7            4        0  Class_6  \n",
      "8            0        0  Class_2  \n",
      "9            0        0  Class_6  \n",
      "11           0        0  Class_2  \n",
      "15           0        0  Class_2  \n",
      "21           3        0  Class_6  \n",
      "22           0        0  Class_6  \n",
      "24           7        0  Class_6  \n",
      "25           0        0  Class_2  \n",
      "26           0        0  Class_2  \n",
      "29           0        0  Class_2  \n",
      "33           0        0  Class_6  \n",
      "37           5        0  Class_6  \n",
      "39           0        0  Class_6  \n",
      "40           0        0  Class_2  \n",
      "42           5        0  Class_6  \n",
      "43           2        0  Class_6  \n",
      "44           0        0  Class_2  \n",
      "45           0        0  Class_2  \n",
      "46           3        1  Class_6  \n",
      "48           0        0  Class_6  \n",
      "49           0        0  Class_2  \n",
      "51           0        0  Class_2  \n",
      "54           0        0  Class_6  \n",
      "58           0        0  Class_6  \n",
      "...        ...      ...      ...  \n",
      "46345        0        0  Class_2  \n",
      "46350        0        0  Class_6  \n",
      "46352        0        0  Class_2  \n",
      "46355        0        0  Class_2  \n",
      "46360        0        0  Class_6  \n",
      "46364        0        0  Class_2  \n",
      "46365        0        0  Class_2  \n",
      "46370        0        0  Class_6  \n",
      "46373        0        0  Class_2  \n",
      "46374        0        0  Class_2  \n",
      "46375        0        3  Class_2  \n",
      "46376        0        0  Class_2  \n",
      "46380        0        0  Class_2  \n",
      "46381        0        0  Class_2  \n",
      "46382        0        0  Class_6  \n",
      "46383        0        0  Class_2  \n",
      "46384        0        0  Class_2  \n",
      "46389        0        0  Class_6  \n",
      "46391        7        0  Class_6  \n",
      "46392        0        0  Class_2  \n",
      "46393        0        0  Class_6  \n",
      "46394        0        0  Class_2  \n",
      "46397        0        0  Class_6  \n",
      "46399        0        0  Class_2  \n",
      "46400        0        0  Class_2  \n",
      "46401        0        0  Class_6  \n",
      "46402        0        0  Class_6  \n",
      "46404        0        0  Class_6  \n",
      "46405        0        0  Class_6  \n",
      "46406        0        0  Class_2  \n",
      "\n",
      "[22719 rows x 11 columns]\n"
     ]
    }
   ],
   "source": [
    "print filter_classes(df)"
   ]
  }
 ],
 "metadata": {
  "anaconda-cloud": {},
  "kernelspec": {
   "display_name": "Python [default]",
   "language": "python",
   "name": "python2"
  },
  "language_info": {
   "codemirror_mode": {
    "name": "ipython",
    "version": 2
   },
   "file_extension": ".py",
   "mimetype": "text/x-python",
   "name": "python",
   "nbconvert_exporter": "python",
   "pygments_lexer": "ipython2",
   "version": "2.7.12"
  }
 },
 "nbformat": 4,
 "nbformat_minor": 1
}
